{
  "nbformat": 4,
  "nbformat_minor": 0,
  "metadata": {
    "colab": {
      "provenance": [],
      "machine_shape": "hm",
      "gpuType": "T4"
    },
    "kernelspec": {
      "name": "python3",
      "display_name": "Python 3"
    },
    "language_info": {
      "name": "python"
    },
    "accelerator": "GPU"
  },
  "cells": [
    {
      "cell_type": "code",
      "source": [
        "# Install required packages\n",
        "# !pip install --upgrade google-ai-generativelanguage\n",
        "!pip install google-ai-generativelanguage"
      ],
      "metadata": {
        "colab": {
          "base_uri": "https://localhost:8080/"
        },
        "id": "qUJTxXjHCYM-",
        "outputId": "3a89d75e-e3be-4692-ea59-4bc8777d2331"
      },
      "execution_count": 1,
      "outputs": [
        {
          "output_type": "stream",
          "name": "stdout",
          "text": [
            "Requirement already satisfied: google-ai-generativelanguage in /usr/local/lib/python3.10/dist-packages (0.6.10)\n",
            "Requirement already satisfied: google-api-core!=2.0.*,!=2.1.*,!=2.10.*,!=2.2.*,!=2.3.*,!=2.4.*,!=2.5.*,!=2.6.*,!=2.7.*,!=2.8.*,!=2.9.*,<3.0.0dev,>=1.34.1 in /usr/local/lib/python3.10/dist-packages (from google-api-core[grpc]!=2.0.*,!=2.1.*,!=2.10.*,!=2.2.*,!=2.3.*,!=2.4.*,!=2.5.*,!=2.6.*,!=2.7.*,!=2.8.*,!=2.9.*,<3.0.0dev,>=1.34.1->google-ai-generativelanguage) (2.19.2)\n",
            "Requirement already satisfied: google-auth!=2.24.0,!=2.25.0,<3.0.0dev,>=2.14.1 in /usr/local/lib/python3.10/dist-packages (from google-ai-generativelanguage) (2.27.0)\n",
            "Requirement already satisfied: proto-plus<2.0.0dev,>=1.22.3 in /usr/local/lib/python3.10/dist-packages (from google-ai-generativelanguage) (1.25.0)\n",
            "Requirement already satisfied: protobuf!=4.21.0,!=4.21.1,!=4.21.2,!=4.21.3,!=4.21.4,!=4.21.5,<6.0.0dev,>=3.20.2 in /usr/local/lib/python3.10/dist-packages (from google-ai-generativelanguage) (4.25.5)\n",
            "Requirement already satisfied: googleapis-common-protos<2.0.dev0,>=1.56.2 in /usr/local/lib/python3.10/dist-packages (from google-api-core!=2.0.*,!=2.1.*,!=2.10.*,!=2.2.*,!=2.3.*,!=2.4.*,!=2.5.*,!=2.6.*,!=2.7.*,!=2.8.*,!=2.9.*,<3.0.0dev,>=1.34.1->google-api-core[grpc]!=2.0.*,!=2.1.*,!=2.10.*,!=2.2.*,!=2.3.*,!=2.4.*,!=2.5.*,!=2.6.*,!=2.7.*,!=2.8.*,!=2.9.*,<3.0.0dev,>=1.34.1->google-ai-generativelanguage) (1.66.0)\n",
            "Requirement already satisfied: requests<3.0.0.dev0,>=2.18.0 in /usr/local/lib/python3.10/dist-packages (from google-api-core!=2.0.*,!=2.1.*,!=2.10.*,!=2.2.*,!=2.3.*,!=2.4.*,!=2.5.*,!=2.6.*,!=2.7.*,!=2.8.*,!=2.9.*,<3.0.0dev,>=1.34.1->google-api-core[grpc]!=2.0.*,!=2.1.*,!=2.10.*,!=2.2.*,!=2.3.*,!=2.4.*,!=2.5.*,!=2.6.*,!=2.7.*,!=2.8.*,!=2.9.*,<3.0.0dev,>=1.34.1->google-ai-generativelanguage) (2.32.3)\n",
            "Requirement already satisfied: grpcio<2.0dev,>=1.33.2 in /usr/local/lib/python3.10/dist-packages (from google-api-core[grpc]!=2.0.*,!=2.1.*,!=2.10.*,!=2.2.*,!=2.3.*,!=2.4.*,!=2.5.*,!=2.6.*,!=2.7.*,!=2.8.*,!=2.9.*,<3.0.0dev,>=1.34.1->google-ai-generativelanguage) (1.68.1)\n",
            "Requirement already satisfied: grpcio-status<2.0.dev0,>=1.33.2 in /usr/local/lib/python3.10/dist-packages (from google-api-core[grpc]!=2.0.*,!=2.1.*,!=2.10.*,!=2.2.*,!=2.3.*,!=2.4.*,!=2.5.*,!=2.6.*,!=2.7.*,!=2.8.*,!=2.9.*,<3.0.0dev,>=1.34.1->google-ai-generativelanguage) (1.62.3)\n",
            "Requirement already satisfied: cachetools<6.0,>=2.0.0 in /usr/local/lib/python3.10/dist-packages (from google-auth!=2.24.0,!=2.25.0,<3.0.0dev,>=2.14.1->google-ai-generativelanguage) (5.5.0)\n",
            "Requirement already satisfied: pyasn1-modules>=0.2.1 in /usr/local/lib/python3.10/dist-packages (from google-auth!=2.24.0,!=2.25.0,<3.0.0dev,>=2.14.1->google-ai-generativelanguage) (0.4.1)\n",
            "Requirement already satisfied: rsa<5,>=3.1.4 in /usr/local/lib/python3.10/dist-packages (from google-auth!=2.24.0,!=2.25.0,<3.0.0dev,>=2.14.1->google-ai-generativelanguage) (4.9)\n",
            "Requirement already satisfied: pyasn1<0.7.0,>=0.4.6 in /usr/local/lib/python3.10/dist-packages (from pyasn1-modules>=0.2.1->google-auth!=2.24.0,!=2.25.0,<3.0.0dev,>=2.14.1->google-ai-generativelanguage) (0.6.1)\n",
            "Requirement already satisfied: charset-normalizer<4,>=2 in /usr/local/lib/python3.10/dist-packages (from requests<3.0.0.dev0,>=2.18.0->google-api-core!=2.0.*,!=2.1.*,!=2.10.*,!=2.2.*,!=2.3.*,!=2.4.*,!=2.5.*,!=2.6.*,!=2.7.*,!=2.8.*,!=2.9.*,<3.0.0dev,>=1.34.1->google-api-core[grpc]!=2.0.*,!=2.1.*,!=2.10.*,!=2.2.*,!=2.3.*,!=2.4.*,!=2.5.*,!=2.6.*,!=2.7.*,!=2.8.*,!=2.9.*,<3.0.0dev,>=1.34.1->google-ai-generativelanguage) (3.4.0)\n",
            "Requirement already satisfied: idna<4,>=2.5 in /usr/local/lib/python3.10/dist-packages (from requests<3.0.0.dev0,>=2.18.0->google-api-core!=2.0.*,!=2.1.*,!=2.10.*,!=2.2.*,!=2.3.*,!=2.4.*,!=2.5.*,!=2.6.*,!=2.7.*,!=2.8.*,!=2.9.*,<3.0.0dev,>=1.34.1->google-api-core[grpc]!=2.0.*,!=2.1.*,!=2.10.*,!=2.2.*,!=2.3.*,!=2.4.*,!=2.5.*,!=2.6.*,!=2.7.*,!=2.8.*,!=2.9.*,<3.0.0dev,>=1.34.1->google-ai-generativelanguage) (3.10)\n",
            "Requirement already satisfied: urllib3<3,>=1.21.1 in /usr/local/lib/python3.10/dist-packages (from requests<3.0.0.dev0,>=2.18.0->google-api-core!=2.0.*,!=2.1.*,!=2.10.*,!=2.2.*,!=2.3.*,!=2.4.*,!=2.5.*,!=2.6.*,!=2.7.*,!=2.8.*,!=2.9.*,<3.0.0dev,>=1.34.1->google-api-core[grpc]!=2.0.*,!=2.1.*,!=2.10.*,!=2.2.*,!=2.3.*,!=2.4.*,!=2.5.*,!=2.6.*,!=2.7.*,!=2.8.*,!=2.9.*,<3.0.0dev,>=1.34.1->google-ai-generativelanguage) (2.2.3)\n",
            "Requirement already satisfied: certifi>=2017.4.17 in /usr/local/lib/python3.10/dist-packages (from requests<3.0.0.dev0,>=2.18.0->google-api-core!=2.0.*,!=2.1.*,!=2.10.*,!=2.2.*,!=2.3.*,!=2.4.*,!=2.5.*,!=2.6.*,!=2.7.*,!=2.8.*,!=2.9.*,<3.0.0dev,>=1.34.1->google-api-core[grpc]!=2.0.*,!=2.1.*,!=2.10.*,!=2.2.*,!=2.3.*,!=2.4.*,!=2.5.*,!=2.6.*,!=2.7.*,!=2.8.*,!=2.9.*,<3.0.0dev,>=1.34.1->google-ai-generativelanguage) (2024.8.30)\n"
          ]
        }
      ]
    },
    {
      "cell_type": "markdown",
      "source": [
        "### Import Required Libraries"
      ],
      "metadata": {
        "id": "rlIk3vmRoztv"
      }
    },
    {
      "cell_type": "code",
      "source": [
        "import google.ai.generativelanguage as glm\n",
        "from google.colab import userdata"
      ],
      "metadata": {
        "id": "LVObp04Po50H"
      },
      "execution_count": 2,
      "outputs": []
    },
    {
      "cell_type": "code",
      "source": [
        "google_api_key = userdata.get('GOOGLE_API_KEY')\n",
        "import google.generativeai as genai\n",
        "genai.configure(api_key=google_api_key)"
      ],
      "metadata": {
        "id": "tIQMT3cryJge"
      },
      "execution_count": 3,
      "outputs": []
    },
    {
      "cell_type": "code",
      "source": [
        "# Set the model configuration\n",
        "generation_config = {\n",
        "  \"temperature\": 1,\n",
        "  \"top_p\": 0.95,\n",
        "  \"top_k\": 64,\n",
        "  \"max_output_tokens\": 8192,\n",
        "  \"response_mime_type\": \"text/plain\",\n",
        "}"
      ],
      "metadata": {
        "id": "s_rhQuP1yLK0"
      },
      "execution_count": 4,
      "outputs": []
    },
    {
      "cell_type": "code",
      "source": [
        "#### Create the Model\n",
        "model = genai.GenerativeModel(\n",
        "  model_name=\"gemini-1.5-flash\",\n",
        "  generation_config=generation_config,\n",
        ")"
      ],
      "metadata": {
        "id": "AptAUKCXyMF8"
      },
      "execution_count": 8,
      "outputs": []
    },
    {
      "cell_type": "code",
      "source": [
        "def gemini_chat(prompt):\n",
        "  chat_session = model.start_chat()\n",
        "  response = chat_session.send_message(prompt)\n",
        "  return response.text"
      ],
      "metadata": {
        "id": "mY-gnDlKooDi"
      },
      "execution_count": 9,
      "outputs": []
    },
    {
      "cell_type": "code",
      "source": [
        "def prettyprint(prompt, output):\n",
        "  print(\"Prompt:\")\n",
        "  print(prompt)\n",
        "  print(\"\\nOutput:\")\n",
        "  print(output)"
      ],
      "metadata": {
        "id": "u5pcWpFKsixe"
      },
      "execution_count": 10,
      "outputs": []
    },
    {
      "cell_type": "markdown",
      "source": [
        "##Examples using Gemini API"
      ],
      "metadata": {
        "id": "3kYoEw6KoA9n"
      }
    },
    {
      "cell_type": "markdown",
      "source": [
        "### **1. Summarization**"
      ],
      "metadata": {
        "id": "yOmyuAwwpm1-"
      }
    },
    {
      "cell_type": "code",
      "source": [
        "# 1. Summarization\n",
        "\n",
        "long_text = \"\"\"\n",
        "Western Digital is a leading global data storage company, specializing in manufacturing hard disk drives (HDDs) and solid-state drives (SSDs) for both consumer and enterprise use, known for its wide range of storage solutions across various devices like computers, servers, and personal electronics. Based in San Jose, California, Western Digital is considered a major player in the data storage industry, with a focus on innovation and developing cutting-edge technologies to meet evolving data needs. \"\"\"\n",
        "\n",
        "prompt=\"Summarize the following text: \" + long_text\n",
        "\n",
        "\n",
        "output = gemini_chat(prompt)\n",
        "prettyprint(prompt, output)"
      ],
      "metadata": {
        "id": "RnrKGSIioE5A",
        "colab": {
          "base_uri": "https://localhost:8080/",
          "height": 158
        },
        "outputId": "2668df8c-3507-4969-f5cf-9b5a5bb1ca0a"
      },
      "execution_count": 12,
      "outputs": [
        {
          "output_type": "stream",
          "name": "stdout",
          "text": [
            "Prompt:\n",
            "Summarize the following text: \n",
            "Western Digital is a leading global data storage company, specializing in manufacturing hard disk drives (HDDs) and solid-state drives (SSDs) for both consumer and enterprise use, known for its wide range of storage solutions across various devices like computers, servers, and personal electronics. Based in San Jose, California, Western Digital is considered a major player in the data storage industry, with a focus on innovation and developing cutting-edge technologies to meet evolving data needs. \n",
            "\n",
            "Output:\n",
            "Western Digital is a major San Jose-based manufacturer of HDDs and SSDs for consumers and businesses, offering a wide range of storage solutions and known for its innovation in the data storage industry.\n",
            "\n"
          ]
        }
      ]
    },
    {
      "cell_type": "markdown",
      "source": [
        "### **2. Translation**"
      ],
      "metadata": {
        "id": "u62ql2YXppEu"
      }
    },
    {
      "cell_type": "code",
      "source": [
        "# 2. Translation\n",
        "def translate_text(text, target_language):\n",
        "    translate_prompt=f\"Translate the following English text to {target_language}:\\n\\n{text}\"\n",
        "    return gemini_chat(translate_prompt)\n",
        "\n",
        "# Test the translation function\n",
        "\n",
        "original_text = \"Western Digital is a leading global data storage company, specializing in manufacturing hard disk drives (HDDs) and solid-state drives (SSDs) for both consumer and enterprise use, known for its wide range of storage solutions across various devices like computers, servers, and personal electronics. \"\n",
        "translated_text = translate_text(original_text, \"Telugu\")\n",
        "translate_prompt = f\"Translate the following English text to Telugu:\\n{original_text}\"\n",
        "prettyprint(translate_prompt, translated_text)"
      ],
      "metadata": {
        "id": "gt3JpnKuoGe3",
        "colab": {
          "base_uri": "https://localhost:8080/",
          "height": 158
        },
        "outputId": "e37650ce-38dd-44f2-bd19-1aa89e3d314c"
      },
      "execution_count": 13,
      "outputs": [
        {
          "output_type": "stream",
          "name": "stdout",
          "text": [
            "Prompt:\n",
            "Translate the following English text to Telugu:\n",
            "Western Digital is a leading global data storage company, specializing in manufacturing hard disk drives (HDDs) and solid-state drives (SSDs) for both consumer and enterprise use, known for its wide range of storage solutions across various devices like computers, servers, and personal electronics. \n",
            "\n",
            "Output:\n",
            "పశ్చిమ డిజిటల్ అనేది ప్రముఖ గ్లోబల్ డేటా నిల్వ సంస్థ, వినియోగదారులు మరియు సంస్థల ఉపయోగం కోసం హార్డ్ డిస్క్ డ్రైవ్‌లు (HDDలు) మరియు సాలిడ్-స్టేట్ డ్రైవ్‌లు (SSDs) తయారీలో ప్రత్యేకత కలిగి ఉంది, కంప్యూటర్లు, సర్వర్లు మరియు వ్యక్తిగత ఎలక్ట్రానిక్స్ వంటి వివిధ పరికరాలలో విస్తృత శ్రేణి నిల్వ పరిష్కారాలకు ప్రసిద్ధి చెందింది.\n",
            "\n"
          ]
        }
      ]
    },
    {
      "cell_type": "markdown",
      "source": [
        "### **3. Question Answering**"
      ],
      "metadata": {
        "id": "4c5pOoecprwi"
      }
    },
    {
      "cell_type": "code",
      "source": [
        "# 3. Question Answering\n",
        "def answer_question(question, context):\n",
        "    prompt=f\"Use the following context to answer the question:\\n\\nContext: {context}\\n\\nQuestion: {question}\\nAnswer:\"\n",
        "    return gemini_chat(prompt)\n",
        "\n",
        "# Test the question answering function\n",
        "context_text = \"\"\"\n",
        "Western Digital is a leading global data storage company, specializing in manufacturing hard disk drives (HDDs) and solid-state drives (SSDs) for both consumer and enterprise use, known for its wide range of storage solutions across various devices like computers, servers, and personal electronics. Based in San Jose, California, Western Digital is considered a major player in the data storage industry, with a focus on innovation and developing cutting-edge technologies to meet evolving data needs. \"\"\"\n",
        "\n",
        "question = \"Tell about Western Digital?\"\n",
        "answer = answer_question(question, context_text)\n",
        "prettyprint(question, answer)"
      ],
      "metadata": {
        "id": "UHPOCpV2oHwy",
        "colab": {
          "base_uri": "https://localhost:8080/",
          "height": 141
        },
        "outputId": "f02055de-8a4d-453c-e703-af44a5172b07"
      },
      "execution_count": 14,
      "outputs": [
        {
          "output_type": "stream",
          "name": "stdout",
          "text": [
            "Prompt:\n",
            "Tell about Western Digital?\n",
            "\n",
            "Output:\n",
            "Western Digital is a major global data storage company headquartered in San Jose, California.  They manufacture hard disk drives (HDDs) and solid-state drives (SSDs) for consumers and businesses.  Their products are used in a wide variety of devices, including computers, servers, and personal electronics.  The company is known for its extensive range of storage solutions and its commitment to innovation in the data storage industry.\n",
            "\n"
          ]
        }
      ]
    },
    {
      "cell_type": "markdown",
      "source": [
        "### **4. Rap Battle Writer**"
      ],
      "metadata": {
        "id": "wIW3O0TipxNL"
      }
    },
    {
      "cell_type": "code",
      "source": [
        "# 5. Rap Battle Writer\n",
        "prompt = \"Write a rap battle between Narendra Modi and Elon Musk.\"\n",
        "output = gemini_chat(prompt)\n",
        "prettyprint(prompt, output)"
      ],
      "metadata": {
        "id": "ev6Sa-2-oHlS",
        "colab": {
          "base_uri": "https://localhost:8080/",
          "height": 1000
        },
        "outputId": "aca9ffb6-c963-4c18-d5f5-807c8826677a"
      },
      "execution_count": 16,
      "outputs": [
        {
          "output_type": "stream",
          "name": "stdout",
          "text": [
            "Prompt:\n",
            "Write a rap battle between Narendra Modi and Elon Musk.\n",
            "\n",
            "Output:\n",
            "**(DJ scratching vinyl. Crowd roars.)**\n",
            "\n",
            "**MC:** Yo, we got a battle for the ages tonight! In this corner, the Prime Minister of India, the man, the myth, the Modi!\n",
            "\n",
            "**(Crowd cheers wildly. Modi steps to the mic, adjusts his kurta.)**\n",
            "\n",
            "**Modi:** (In Hindi, then translated)  Namaste, world!  I'm Modi, the name's synonymous with might,\n",
            "Leading a billion strong, shining ever so bright.\n",
            "Developed my nation, infrastructure's key,\n",
            "While you're stuck in traffic, I'm building history!\n",
            "From chai wallah to PM, that's my story untold,\n",
            "Your rockets are impressive, but my vision's bold.\n",
            "You’re focused on Mars, I'm focused on the masses,\n",
            "My development plans leave your innovations in the grasses.\n",
            "\n",
            "\n",
            "**(Crowd erupts. Elon Musk strides confidently to the mic, wearing a Tesla branded hoodie.)**\n",
            "\n",
            "**Musk:**  Whoa, hold up, chai wallah tales are getting old,\n",
            "While you're busy with speeches, my future's taking hold.\n",
            "Electric vehicles, space exploration's the game,\n",
            "While you're stuck in the past, I'm reaching for fame.\n",
            "My tweets move markets, my rockets reach the sky,\n",
            "Your economic reforms?  Frankly, I'm passing them by.\n",
            "You talk about progress, but your internet's slow,\n",
            "I'm shooting for colonies on Mars, where the innovations grow!\n",
            "\n",
            "\n",
            "**Modi:**  Colonies on Mars? A billionaire's fantasy,\n",
            "While millions on Earth still struggle, that's a stark reality.\n",
            "My policies uplift, your tweets are just a meme,\n",
            "Focusing on the people, that's my supreme regime.\n",
            "Yoga and Ayurveda, ancient wisdom we share,\n",
            "While you’re obsessed with AI, I'm focused on our care.\n",
            "\n",
            "\n",
            "**Musk:**  Ancient wisdom?  That's great for a museum,\n",
            "But innovation's future, that's what I choose to use 'em.\n",
            "Sustainable energy, that’s the path we must take,\n",
            "While you're stuck in tradition, for goodness sake!\n",
            "My companies disrupt, redefine the norms,\n",
            "You're busy with politics, while I'm conquering storms.  \n",
            "Dogecoin to the moon, that’s the vision I see,\n",
            "Leaving your five-year plans far behind, you'll agree.\n",
            "\n",
            "\n",
            "**Modi:** (Smiling slyly)  The moon?  We've been there, my friend, long ago,\n",
            "It's not about the destination, but the seeds that we sow.\n",
            "Self-reliance, Atmanirbhar Bharat, that's the key,\n",
            "Building a stronger India, for you and for me.\n",
            "\n",
            "\n",
            "**Musk:**  Self-reliance? Sounds a bit isolationist, mate,\n",
            "Collaboration’s the future, before it gets too late.\n",
            "Open-source tech, that’s the power I unleash,\n",
            "While you’re guarding your secrets, I'm achieving a breach!\n",
            "\n",
            "\n",
            "**(Both rappers pause, looking at each other intensely. The crowd is deafening.)**\n",
            "\n",
            "**MC:**  Yo, that's all the time we have!  Who won this epic clash?  You decide!\n",
            "\n",
            "\n",
            "**(The crowd roars its approval, a cacophony of cheers and boos for both Modi and Musk. The battle remains undecided.)**\n",
            "\n"
          ]
        }
      ]
    },
    {
      "cell_type": "markdown",
      "source": [
        "### **5. Natural Language to SQL Generator**"
      ],
      "metadata": {
        "id": "ALnrPSXRp0Wz"
      }
    },
    {
      "cell_type": "code",
      "source": [
        "# 6. Natural Language to SQL Generator\n",
        "prompt=\"Given the following SQL tables, your job is to write queries given a user’s request.\\n    \\n    CREATE TABLE Orders (\\n      OrderID int,\\n      CustomerID int,\\n      OrderDate datetime,\\n      OrderTime varchar(8),\\n      PRIMARY KEY (OrderID)\\n    );\\n    \\n    CREATE TABLE OrderDetails (\\n      OrderDetailID int,\\n      OrderID int,\\n      ProductID int,\\n      Quantity int,\\n      PRIMARY KEY (OrderDetailID)\\n    );\\n    \\n    CREATE TABLE Products (\\n      ProductID int,\\n      ProductName varchar(50),\\n      Category varchar(50),\\n      UnitPrice decimal(10, 2),\\n      Stock int,\\n      PRIMARY KEY (ProductID)\\n    );\\n    \\n    CREATE TABLE Customers (\\n      CustomerID int,\\n      FirstName varchar(50),\\n      LastName varchar(50),\\n      Email varchar(100),\\n      Phone varchar(20),\\n      PRIMARY KEY (CustomerID)\\n    );\"\n",
        "sql_query = gemini_chat(prompt)\n",
        "prettyprint(prompt, sql_query)\n",
        "\n",
        "sql_query_prompt = \"Write a SQL query which computes the average total order value for all orders on 2023-03-01.\"\n",
        "sql_query_computations = gemini_chat(sql_query_prompt)\n",
        "prettyprint(sql_query_prompt, sql_query_computations)"
      ],
      "metadata": {
        "id": "601uXxH0oQgC",
        "colab": {
          "base_uri": "https://localhost:8080/",
          "height": 1000
        },
        "outputId": "32d5c8e9-59b6-4b64-d2a2-4d19f5f1a4c2"
      },
      "execution_count": 17,
      "outputs": [
        {
          "output_type": "stream",
          "name": "stdout",
          "text": [
            "Prompt:\n",
            "Given the following SQL tables, your job is to write queries given a user’s request.\n",
            "    \n",
            "    CREATE TABLE Orders (\n",
            "      OrderID int,\n",
            "      CustomerID int,\n",
            "      OrderDate datetime,\n",
            "      OrderTime varchar(8),\n",
            "      PRIMARY KEY (OrderID)\n",
            "    );\n",
            "    \n",
            "    CREATE TABLE OrderDetails (\n",
            "      OrderDetailID int,\n",
            "      OrderID int,\n",
            "      ProductID int,\n",
            "      Quantity int,\n",
            "      PRIMARY KEY (OrderDetailID)\n",
            "    );\n",
            "    \n",
            "    CREATE TABLE Products (\n",
            "      ProductID int,\n",
            "      ProductName varchar(50),\n",
            "      Category varchar(50),\n",
            "      UnitPrice decimal(10, 2),\n",
            "      Stock int,\n",
            "      PRIMARY KEY (ProductID)\n",
            "    );\n",
            "    \n",
            "    CREATE TABLE Customers (\n",
            "      CustomerID int,\n",
            "      FirstName varchar(50),\n",
            "      LastName varchar(50),\n",
            "      Email varchar(100),\n",
            "      Phone varchar(20),\n",
            "      PRIMARY KEY (CustomerID)\n",
            "    );\n",
            "\n",
            "Output:\n",
            "Okay, I'm ready.  Please provide the user's requests.  I will write the SQL queries to answer them based on the provided table schemas.  I will strive to make the queries efficient and clear.\n",
            "\n",
            "Prompt:\n",
            "Write a SQL query which computes the average total order value for all orders on 2023-03-01.\n",
            "\n",
            "Output:\n",
            "The exact SQL query depends on your database schema.  Assuming you have a table named `orders` with at least the following columns:\n",
            "\n",
            "* `order_id` (INT, primary key)\n",
            "* `order_date` (DATE)\n",
            "* `total_value` (DECIMAL or FLOAT)\n",
            "\n",
            "\n",
            "Here's the query:\n",
            "\n",
            "```sql\n",
            "SELECT AVG(total_value) AS average_order_value\n",
            "FROM orders\n",
            "WHERE order_date = '2023-03-01';\n",
            "```\n",
            "\n",
            "This query does the following:\n",
            "\n",
            "1. `SELECT AVG(total_value) AS average_order_value`: This selects the average of the `total_value` column and names the resulting column `average_order_value`.\n",
            "2. `FROM orders`: This specifies that we are querying the `orders` table.\n",
            "3. `WHERE order_date = '2023-03-01'`: This filters the results to include only orders placed on March 1st, 2023.\n",
            "\n",
            "\n",
            "If your `order_date` column is a timestamp (e.g., `DATETIME` or `TIMESTAMP`), you might need to adjust the `WHERE` clause to consider only the date portion.  For example, in MySQL you could use:\n",
            "\n",
            "```sql\n",
            "SELECT AVG(total_value) AS average_order_value\n",
            "FROM orders\n",
            "WHERE DATE(order_date) = '2023-03-01';\n",
            "```\n",
            "\n",
            "Other database systems might have slightly different functions to extract the date part from a timestamp (e.g., `CAST` in PostgreSQL).  Adapt the query accordingly based on your specific database system and data types.\n",
            "\n"
          ]
        }
      ]
    },
    {
      "cell_type": "markdown",
      "source": [
        "### **6. Parse Unstructured Data**"
      ],
      "metadata": {
        "id": "KtL2TEZYp0O3"
      }
    },
    {
      "cell_type": "code",
      "source": [
        "# 7. Parse Unstructured Data\n",
        "unstructured_data_prompt = \"You will be provided with unstructured data, and your task is to parse it into CSV format. Please see the unstructured data below:\\n There are many fruits that were found on the recently discovered planet Goocrux. There are neoskizzles that grow there, which are purple and taste like candy. There are also loheckles, which are a grayish blue fruit and are very tart, a little bit like a lemon. Pounits are a bright green color and are more savory than sweet. There are also plenty of loopnovas which are a neon pink flavor and taste like cotton candy. Finally, there are fruits called glowls, which have a very sour and bitter taste which is acidic and caustic, and a pale orange tinge to them.\"\n",
        "csv_output = gemini_chat(unstructured_data_prompt)\n",
        "prettyprint(unstructured_data_prompt, csv_output)"
      ],
      "metadata": {
        "id": "vMHZ9VRkoRJg",
        "colab": {
          "base_uri": "https://localhost:8080/",
          "height": 280
        },
        "outputId": "20c9d69f-608b-413f-8791-c1c6616e2376"
      },
      "execution_count": 18,
      "outputs": [
        {
          "output_type": "stream",
          "name": "stdout",
          "text": [
            "Prompt:\n",
            "You will be provided with unstructured data, and your task is to parse it into CSV format. Please see the unstructured data below:\n",
            " There are many fruits that were found on the recently discovered planet Goocrux. There are neoskizzles that grow there, which are purple and taste like candy. There are also loheckles, which are a grayish blue fruit and are very tart, a little bit like a lemon. Pounits are a bright green color and are more savory than sweet. There are also plenty of loopnovas which are a neon pink flavor and taste like cotton candy. Finally, there are fruits called glowls, which have a very sour and bitter taste which is acidic and caustic, and a pale orange tinge to them.\n",
            "\n",
            "Output:\n",
            "```csv\n",
            "Fruit,Color,Taste\n",
            "neoskizzles,purple,\"like candy\"\n",
            "loheckles,grayish blue,\"very tart, a little bit like a lemon\"\n",
            "pounits,bright green,\"more savory than sweet\"\n",
            "loopnovas,neon pink,\"like cotton candy\"\n",
            "glowls,pale orange,\"very sour and bitter, acidic and caustic\"\n",
            "```\n",
            "\n"
          ]
        }
      ]
    },
    {
      "cell_type": "markdown",
      "source": [
        "### **7. Calculate Time Complexity**"
      ],
      "metadata": {
        "id": "_UziVnJYp01X"
      }
    },
    {
      "cell_type": "code",
      "source": [
        "# 8. Calculate Time Complexity\n",
        "system_message = \"You will be provided with Python code, and your task is to calculate its time complexity. See below for the python code:\"\n",
        "python_code = \"def foo(n, k):\\n        accum = 0\\n        for i in range(n):\\n            for l in range(k):\\n                accum += i\\n        return accum\"\n",
        "\n",
        "prompt = f\"{system_message} {python_code}\"\n",
        "time_complexity = gemini_chat(prompt)\n",
        "prettyprint(prompt, time_complexity)"
      ],
      "metadata": {
        "id": "_1hrIuiooRG6",
        "colab": {
          "base_uri": "https://localhost:8080/",
          "height": 263
        },
        "outputId": "0016c133-a175-497d-92e2-25c79d467c49"
      },
      "execution_count": 19,
      "outputs": [
        {
          "output_type": "stream",
          "name": "stdout",
          "text": [
            "Prompt:\n",
            "You will be provided with Python code, and your task is to calculate its time complexity. See below for the python code: def foo(n, k):\n",
            "        accum = 0\n",
            "        for i in range(n):\n",
            "            for l in range(k):\n",
            "                accum += i\n",
            "        return accum\n",
            "\n",
            "Output:\n",
            "The time complexity of the given Python code is **O(n*k)**.\n",
            "\n",
            "The outer loop iterates `n` times, and the inner loop iterates `k` times for each iteration of the outer loop.  Therefore, the `accum += i` statement within the nested loops executes `n * k` times.  The other operations (initialization, return) take constant time and are insignificant compared to the nested loops.  Thus, the dominant factor determining the runtime is the number of iterations of the nested loops, leading to a time complexity of O(n*k).\n",
            "\n"
          ]
        }
      ]
    },
    {
      "cell_type": "markdown",
      "source": [
        "### **8. Chatbot**\n",
        "\n"
      ],
      "metadata": {
        "id": "U5QlFceWpu2b"
      }
    },
    {
      "cell_type": "code",
      "source": [
        "# 4. Chatbot\n",
        "def chatbot_interaction(user_input):\n",
        "    prompt=f\"<previous_conversation_history> \\n User: {user_input}\"\n",
        "    bot_reply = gemini_chat(prompt)\n",
        "    print(bot_reply)\n",
        "    return bot_reply\n",
        "\n",
        "# Example interaction loop\n",
        "user_input = \"\"\n",
        "while True:\n",
        "  user_input = input(\"You: \")\n",
        "  if user_input.lower() == \"exit\":\n",
        "    break\n",
        "  chatbot_interaction(user_input)\n",
        "\n",
        "print(\"bye!\")"
      ],
      "metadata": {
        "id": "33TMlQRwoHqo",
        "colab": {
          "base_uri": "https://localhost:8080/",
          "height": 471
        },
        "outputId": "bb849daa-f52c-4b5d-ba4f-7d9441cb4f31"
      },
      "execution_count": 20,
      "outputs": [
        {
          "output_type": "stream",
          "name": "stdout",
          "text": [
            "You: hello dear\n",
            "Hello there! How can I help you today?\n",
            "\n",
            "You: what is the gold price in dubai?\n",
            "I cannot give you the exact, real-time gold price in Dubai.  Gold prices fluctuate constantly throughout the day, based on international markets.\n",
            "\n",
            "To find the most up-to-date price, I recommend checking a reputable online source that tracks live gold prices, such as:\n",
            "\n",
            "* **A major financial news website:** Many financial news sites (like those of Bloomberg, Reuters, or the Financial Times) will have live gold prices.\n",
            "* **A dedicated precious metals website:** Several websites specialize in tracking precious metal prices.\n",
            "* **The websites of Dubai-based jewelers:** Many jewelers in Dubai will display their current gold prices on their websites.\n",
            "\n",
            "Remember that the price you see online is usually for pure gold (24 karat).  The price you'll pay for jewelry will be higher, reflecting the cost of craftsmanship and other precious metals (like platinum or diamonds) that might be included.\n",
            "\n",
            "You: what did i tell about western digital?\n",
            "I have no memory of past conversations.  To know what you said about Western Digital, you'll need to check your own chat logs or notes from previous interactions.\n",
            "\n",
            "You: \n",
            "Please provide the previous conversation history. I need that context to respond appropriately.\n",
            "\n",
            "You: bye\n",
            "Goodbye!\n",
            "\n",
            "You: exit\n",
            "bye!\n"
          ]
        }
      ]
    }
  ]
}